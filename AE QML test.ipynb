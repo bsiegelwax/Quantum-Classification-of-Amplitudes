{
 "cells": [
  {
   "cell_type": "code",
   "execution_count": null,
   "id": "8a4792ed-36bc-4ea2-b03f-3379895e24f9",
   "metadata": {},
   "outputs": [],
   "source": [
    "from qiskit import QuantumCircuit,execute,Aer\n",
    "backend = Aer.get_backend('aer_simulator')\n",
    "\n",
    "from random import randint\n",
    "from math import sqrt\n",
    "\n",
    "print(\"Done.\")"
   ]
  },
  {
   "cell_type": "code",
   "execution_count": null,
   "id": "e8169bcc-c98b-4e25-85d3-e8deb237a561",
   "metadata": {},
   "outputs": [],
   "source": [
    "# We need data for classification 0, classification 1, and for new data to be classified as either classification 0 or classification 1.\n",
    "train = {0:[],\n",
    "         1:[]\n",
    "        }\n",
    "test = []\n",
    "\n",
    "# Randomly assign lower integers to classification 0, higher integers to classification 1, and integers closer to classification 1 for the test state.\n",
    "for i in range(0,8):\n",
    "    train[0].append(randint(0,29))\n",
    "    train[1].append(randint(70,99))\n",
    "    test.append(randint(65,75))\n",
    "    \n",
    "# Convert all values to amplitudes, the sums of squares of which must equal 1.\n",
    "sumtrain0 = sum(train[0])\n",
    "sumtrain1 = sum(train[1])\n",
    "sumtest = sum(test)\n",
    "for i in range(0,8):\n",
    "    train[0][i] = sqrt(train[0][i]/sumtrain0)\n",
    "    train[1][i] = sqrt(train[1][i]/sumtrain1)\n",
    "    test[i] = sqrt(test[i]/sumtest)\n",
    "    \n",
    "print(train)\n",
    "print(test)"
   ]
  },
  {
   "cell_type": "code",
   "execution_count": null,
   "id": "23f3fb8b-ce1e-4c3f-87ee-cb615aa5438b",
   "metadata": {},
   "outputs": [],
   "source": [
    "# To compare 3-qubit states, we need 3 qubits for train data, 3 qubits for test data, and 1 ancilla qubit to compate the two states.\n",
    "qc = QuantumCircuit(7,1)\n",
    "\n",
    "def classify():\n",
    "    initial_state = train[0] # Retrieve amplitudes for classification 0.\n",
    "    qc.initialize(initial_state, [0,1,2]) # Map amplitudes to the first 3 qubits.\n",
    "    initial_state = test # Retrieve the amplitudes for the test data.\n",
    "    qc.initialize(initial_state, [3,4,5]) # Map amplitudes to the next 3 qubits.\n",
    "\n",
    "    # SWAP Test, aka distance measures, aka kernel methods, aka inner products\n",
    "    qc.h(6) # Apply a Hadamard to the ancilla qubit.\n",
    "    for i in range(0,3):\n",
    "        qc.cswap(6,i,i+3) # Using the ancilla as the control, SWAP like qubits of the train and test data.\n",
    "    qc.h(6) # Apply another Hadamard to the ancilla qubit.\n",
    "    qc.measure([6],[0]) # Measure only the ancilla qubit.\n",
    "    \n",
    "    job = execute(qc, backend, shots=10000)\n",
    "    result = job.result()\n",
    "    print(result.get_counts(qc))\n",
    "    \n",
    "    initial_state = train[1] # Retrieve amplitudes for classification 1.\n",
    "    qc.initialize(initial_state, [0,1,2]) # Map amplitudes to the first 3 qubits.\n",
    "    initial_state = test # Retrieve the amplitudes for the test data.\n",
    "    qc.initialize(initial_state, [3,4,5]) # Map amplitudes to the next 3 qubits.\n",
    "    qc.reset(6) # Reset the ancilla qubit for re-use. Initialize(), above, includes resets for the first 6 qubits.\n",
    "\n",
    "    # SWAP Test, aka distance measures, aka kernel methods, aka inner products\n",
    "    qc.h(6) # Apply a Hadamard to the ancilla qubit.\n",
    "    for i in range(0,3):\n",
    "        qc.cswap(6,i,i+3) # Using the ancilla as the control, SWAP like qubits of the train and test data.\n",
    "    qc.h(6) # Apply another Hadamard to the ancilla qubit.\n",
    "    qc.measure([6],[0]) # Measure only the ancilla qubit.\n",
    "    \n",
    "    job = execute(qc, backend, shots=10000)\n",
    "    result = job.result()\n",
    "    print(result.get_counts(qc))\n",
    "\n",
    "print(\"Done.\")"
   ]
  },
  {
   "cell_type": "code",
   "execution_count": null,
   "id": "5c07a5cd-dbe3-47fd-88fa-0b3c5ec51b3b",
   "metadata": {},
   "outputs": [],
   "source": [
    "for i in range(10):\n",
    "    print(i)\n",
    "    \n",
    "    # Generate new test data each time.\n",
    "    for i in range(0,8):\n",
    "        test[i] = randint(65,75)\n",
    "    sumtest = sum(test)\n",
    "    for i in range(0,8):\n",
    "        test[i] = sqrt(test[i]/sumtest)\n",
    "        \n",
    "    classify()\n",
    "    \n",
    "print(\"Done.\")"
   ]
  },
  {
   "cell_type": "code",
   "execution_count": null,
   "id": "e2297596-518f-417a-87c0-3207b1404b2e",
   "metadata": {},
   "outputs": [],
   "source": []
  }
 ],
 "metadata": {
  "kernelspec": {
   "display_name": "Qiskit v0.33.1 (ipykernel)",
   "language": "python",
   "name": "python3"
  },
  "language_info": {
   "codemirror_mode": {
    "name": "ipython",
    "version": 3
   },
   "file_extension": ".py",
   "mimetype": "text/x-python",
   "name": "python",
   "nbconvert_exporter": "python",
   "pygments_lexer": "ipython3",
   "version": "3.8.10"
  },
  "widgets": {
   "application/vnd.jupyter.widget-state+json": {
    "state": {},
    "version_major": 2,
    "version_minor": 0
   }
  }
 },
 "nbformat": 4,
 "nbformat_minor": 5
}
